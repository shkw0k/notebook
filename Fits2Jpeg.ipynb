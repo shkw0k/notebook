{
 "metadata": {
  "name": ""
 },
 "nbformat": 3,
 "nbformat_minor": 0,
 "worksheets": [
  {
   "cells": [
    {
     "cell_type": "markdown",
     "metadata": {},
     "source": [
      "#How to convert FITS image to JPEG"
     ]
    },
    {
     "cell_type": "markdown",
     "metadata": {},
     "source": [
      "First some imports"
     ]
    },
    {
     "cell_type": "code",
     "collapsed": false,
     "input": [
      "%matplotlib inline\n",
      "import pyfits\n",
      "import numpy as np\n",
      "import matplotlib.pyplot as plt\n",
      "import math\n",
      "\n",
      "import os.path\n",
      "import glob\n",
      "import itertools as it"
     ],
     "language": "python",
     "metadata": {},
     "outputs": [],
     "prompt_number": 1
    },
    {
     "cell_type": "code",
     "collapsed": false,
     "input": [
      "fileNames = glob.glob(\"../fits/esi1/*.fits\")\n",
      "fileNames.sort()"
     ],
     "language": "python",
     "metadata": {},
     "outputs": [],
     "prompt_number": 16
    },
    {
     "cell_type": "code",
     "collapsed": false,
     "input": [
      "def remap (arr, fromLo, fromHi, toLo, toHi):\n",
      "    m = (toHi - toLo) / (fromHi - fromLo)\n",
      "    b = -m * fromLo + toLo\n",
      "    return np.clip(np.int_(arr * m + b), toLo, toHi)\n",
      "\n",
      "def applyHistEq(data, loCut=0, hiCut=1, nHist=1024, **kwds):\n",
      "    flatData = data.flatten()\n",
      "    histg, edges = np.histogram(flatData, bins=nHist, density=False)\n",
      "    hsum = np.cumsum(histg)\n",
      "    lo, hi = edges[0], edges[-1]\n",
      "    fromLo = (hi-lo) * loCut + lo\n",
      "    fromHi = (hi-lo) * hiCut + lo\n",
      "    data1 = remap(data, fromLo, fromHi, 0, nHist-1)\n",
      "    return hsum[np.int_(data1)]"
     ],
     "language": "python",
     "metadata": {},
     "outputs": [],
     "prompt_number": 3
    },
    {
     "cell_type": "code",
     "collapsed": false,
     "input": [
      "def centroid(arr):\n",
      "    l = arr.shape[0]\n",
      "    ixs = np.arange(l)\n",
      "    tmp = arr * ixs\n",
      "    tmp1 = tmp * ixs\n",
      "    sumarr = sum(arr)\n",
      "    cen = sum(tmp)/sumarr\n",
      "    return cen, math.sqrt(sum(tmp1)/sumarr - cen * cen)"
     ],
     "language": "python",
     "metadata": {},
     "outputs": [],
     "prompt_number": 4
    },
    {
     "cell_type": "code",
     "collapsed": false,
     "input": [
      "def applyHEQ1(data, loCut=0, hiCut=1, tFactor=1, nHist=65535):\n",
      "    flatData = data.flatten()\n",
      "    leng = len(flatData)\n",
      "    histg, edges = np.histogram(flatData, bins=nHist, density=False)\n",
      "    cen, cstd = centroid(histg)\n",
      "    wing = (hiCut - loCut) * 6.0 * cstd \n",
      "    loIdx = int(max(0, cen-wing))\n",
      "    hiIdx = int(min(loIdx+wing+wing, nHist))\n",
      "    fromLo = edges[loIdx]\n",
      "    fromHi = edges[hiIdx]\n",
      "    \n",
      "    #print (\"fromLo\", fromLo, fromHi, cstd)\n",
      "    data1 = remap(data, fromLo, fromHi, 0, nHist-1)\n",
      "    histg, edges = np.histogram(data1.flatten(), bins=nHist, density=False)\n",
      "    \n",
      "    thold = leng / nHist * cstd * tFactor\n",
      "    histg = np.clip(histg, 0, thold)\n",
      "    hsum = np.cumsum(histg)\n",
      "    data1 = hsum[np.int_(data1)]\n",
      "    return data1\n",
      "    "
     ],
     "language": "python",
     "metadata": {},
     "outputs": [],
     "prompt_number": 5
    },
    {
     "cell_type": "code",
     "collapsed": false,
     "input": [
      "def data2Plot (subPlotId, data, **kwds):\n",
      "    data1 = applyHEQ1(data, **kwds)\n",
      "    \n",
      "    ax = plt.subplot(subPlotId)\n",
      "    ax.imshow(data1, cmap='gray')\n",
      "    \n",
      "def fits2Jpeg (subPlotId, fname, **kwds):\n",
      "    hdus = pyfits.open(fname)\n",
      "    data = hdus[0].data\n",
      "    data2Plot (subPlotId, data, **kwds)\n",
      "    hdus.close() "
     ],
     "language": "python",
     "metadata": {},
     "outputs": [],
     "prompt_number": 6
    },
    {
     "cell_type": "code",
     "collapsed": false,
     "input": [
      "def resizeImage (imgData, newWidth=128):\n",
      "    r,c = imgData.shape\n",
      "    skip = int(c/newWidth) + 1\n",
      "    out = np.array([[0] * int(c / skip)] * int(r/skip))\n",
      "    for r0, ri in enumerate (range(0, r -skip, skip)):\n",
      "        for c0, ci in enumerate(range(0, c-skip, skip)):\n",
      "            value = np.sum(imgData[ri:ri+skip,ci:ci+skip])\n",
      "            out[r0][c0] = value \n",
      "    return out"
     ],
     "language": "python",
     "metadata": {},
     "outputs": [],
     "prompt_number": 7
    },
    {
     "cell_type": "markdown",
     "metadata": {},
     "source": [
      "Sum method does not work well."
     ]
    },
    {
     "cell_type": "code",
     "collapsed": false,
     "input": [
      "def fits2Thumbnail(subPlotId, fname, newWidth=128, method=\"skip\", **kwds):\n",
      "    hdus = pyfits.open(fname)\n",
      "    data = hdus[0].data\n",
      "    r,c = data.shape\n",
      "    skip = int(c/newWidth) +1\n",
      "    if method == \"sum\":\n",
      "        thumbnail = resizeImage (data, newWidth)\n",
      "    else: # defautl skip\n",
      "        thumbnail = applyHEQ1(data[0:r:skip,0:c:skip], **kwds)\n",
      "    #ax = plt.subplot(subPlotId)\n",
      "    #ax.imshow(thumbnail, cmap='gray')\n",
      "    #ax.set_xlabel(os.path.basename(fname))\n",
      "    basename = os.path.basename(fname)\n",
      "    newName = \"out/%s\" % basename.replace(\".fits\", \".jpg\")\n",
      "    \n",
      "    plt.imsave(newName, thumbnail, cmap=\"gray\")\n",
      "    hdus.close()\n",
      "    return newName"
     ],
     "language": "python",
     "metadata": {},
     "outputs": [],
     "prompt_number": 42
    },
    {
     "cell_type": "raw",
     "metadata": {},
     "source": [
      "fig = plt.figure(figsize=(15, 4))\n",
      "hdus = pyfits.open(fileNames[-1])\n",
      "data = hdus[0].data\n",
      "data2Plot (151, data, tFactor=0.1)\n",
      "data2Plot (152, data, tFactor=0.5)\n",
      "data2Plot (153, data, tFactor=1)\n",
      "data2Plot (154, data, tFactor=4)\n",
      "data2Plot (155, data, tFactor=100)\n",
      "\n",
      "hdus.close()\n"
     ]
    },
    {
     "cell_type": "code",
     "collapsed": false,
     "input": [
      "fh = open(\"thumbnails.html\", \"w\") \n",
      "print (\"\"\"<html>\n",
      "<style>\n",
      ".img1 { margin: 10px; display:inline-block; }\n",
      "</style>\n",
      "<body>\n",
      "\"\"\", file=fh)\n",
      "for i, f in enumerate(fileNames):\n",
      "    name = fits2Thumbnail((150+im5), f, tFactor=1, method=\"sum\")\n",
      "    #name = \"out/\" + os.path.basename(f).replace(\".fits\", \".jpg\")\n",
      "    basename = os.path.basename(name)\n",
      "    print (\"<div class='img1'><img src='%s'><br>%s</div>\" % (name,basename), file=fh)\n",
      "print (\"</body></html>\", file=fh)\n",
      "fh.close()\n",
      "print (\"done\")"
     ],
     "language": "python",
     "metadata": {},
     "outputs": [
      {
       "output_type": "stream",
       "stream": "stdout",
       "text": [
        "done\n"
       ]
      }
     ],
     "prompt_number": 48
    },
    {
     "cell_type": "code",
     "collapsed": false,
     "input": [],
     "language": "python",
     "metadata": {},
     "outputs": [],
     "prompt_number": 10
    }
   ],
   "metadata": {}
  }
 ]
}