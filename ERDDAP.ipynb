{
 "metadata": {
  "name": ""
 },
 "nbformat": 3,
 "nbformat_minor": 0,
 "worksheets": [
  {
   "cells": [
    {
     "cell_type": "markdown",
     "metadata": {},
     "source": [
      "#ERDDAP Interface"
     ]
    },
    {
     "cell_type": "code",
     "collapsed": false,
     "input": [
      "DataAccessMainURL=\"http://coastwatch.pfeg.noaa.gov/erddap/index.csv\""
     ],
     "language": "python",
     "metadata": {},
     "outputs": [],
     "prompt_number": 1
    },
    {
     "cell_type": "code",
     "collapsed": false,
     "input": [
      "DataSetsURL=\"http://coastwatch.pfeg.noaa.gov/erddap/info/index.json?page=1&itemsPerPage=1000000000\""
     ],
     "language": "python",
     "metadata": {},
     "outputs": [],
     "prompt_number": 2
    },
    {
     "cell_type": "code",
     "collapsed": false,
     "input": [
      "MetaDataURL=\"http://coastwatch.pfeg.noaa.gov/erddap/info/erdBAssta5day/index.csv\""
     ],
     "language": "python",
     "metadata": {},
     "outputs": [],
     "prompt_number": 3
    },
    {
     "cell_type": "code",
     "collapsed": false,
     "input": [
      "DataSearchURL=\"http://coastwatch.pfeg.noaa.gov/erddap/search/index.json?page=1&itemsPerPage=1000&searchFor=\""
     ],
     "language": "python",
     "metadata": {},
     "outputs": [],
     "prompt_number": 18
    },
    {
     "cell_type": "markdown",
     "metadata": {},
     "source": [
      "##Examples"
     ]
    },
    {
     "cell_type": "code",
     "collapsed": false,
     "input": [
      "import pandas as pd\n",
      "import numpy as np\n",
      "import matplotlib.pyplot as plt\n",
      "from urllib import request\n",
      "import re\n",
      "from IPython.display import display_html, HTML"
     ],
     "language": "python",
     "metadata": {},
     "outputs": [],
     "prompt_number": 33
    },
    {
     "cell_type": "code",
     "collapsed": false,
     "input": [
      "def getDataSets(url):\n",
      "    cont = request.urlopen(url).read()\n",
      "    dataSets = pd.read_json(cont)\n",
      "    rows = pd.DataFrame(dataSets.table[\"rows\"])\n",
      "    rows.columns = dataSets.table[\"columnNames\"]\n",
      "    return rows"
     ],
     "language": "python",
     "metadata": {},
     "outputs": [],
     "prompt_number": 21
    },
    {
     "cell_type": "code",
     "collapsed": false,
     "input": [
      "allSets = getDataSets(DataSetsURL)\n",
      "allSets"
     ],
     "language": "python",
     "metadata": {},
     "outputs": [
      {
       "html": [
        "<pre>\n",
        "&lt;class 'pandas.core.frame.DataFrame'&gt;\n",
        "Int64Index: 791 entries, 0 to 790\n",
        "Data columns (total 15 columns):\n",
        "griddap            791  non-null values\n",
        "Subset             791  non-null values\n",
        "tabledap           791  non-null values\n",
        "Make A Graph       791  non-null values\n",
        "wms                791  non-null values\n",
        "Title              791  non-null values\n",
        "Summary            791  non-null values\n",
        "FGDC               791  non-null values\n",
        "ISO 19115          791  non-null values\n",
        "Info               791  non-null values\n",
        "Background Info    791  non-null values\n",
        "RSS                791  non-null values\n",
        "Email              791  non-null values\n",
        "Institution        791  non-null values\n",
        "Dataset ID         791  non-null values\n",
        "dtypes: object(15)\n",
        "</pre>"
       ],
       "metadata": {},
       "output_type": "pyout",
       "prompt_number": 103,
       "text": [
        "<class 'pandas.core.frame.DataFrame'>\n",
        "Int64Index: 791 entries, 0 to 790\n",
        "Data columns (total 15 columns):\n",
        "griddap            791  non-null values\n",
        "Subset             791  non-null values\n",
        "tabledap           791  non-null values\n",
        "Make A Graph       791  non-null values\n",
        "wms                791  non-null values\n",
        "Title              791  non-null values\n",
        "Summary            791  non-null values\n",
        "FGDC               791  non-null values\n",
        "ISO 19115          791  non-null values\n",
        "Info               791  non-null values\n",
        "Background Info    791  non-null values\n",
        "RSS                791  non-null values\n",
        "Email              791  non-null values\n",
        "Institution        791  non-null values\n",
        "Dataset ID         791  non-null values\n",
        "dtypes: object(15)"
       ]
      }
     ],
     "prompt_number": 103
    },
    {
     "cell_type": "code",
     "collapsed": false,
     "input": [
      "def find(rows, keywords):\n",
      "    prg = re.compile(keywords, re.IGNORECASE)\n",
      "    for i, t in enumerate(rows.Summary):\n",
      "        if prg.search(t):\n",
      "            row = rows.ix[i]\n",
      "            print (i, row[\"Title\"], \"\\n\", row[\"Summary\"])\n",
      "            print (\"---------------------------\")\n",
      "            \n",
      "find (allSets, \"contamination\") \n"
     ],
     "language": "python",
     "metadata": {},
     "outputs": [
      {
       "output_type": "stream",
       "stream": "stdout",
       "text": [
        "513 SST, GHRSST Blended, MW-IR-OI, Science Quality, Global (1 Day Composite) \n",
        " Analyzed Foundation, Microwave + InfraRed Optimally Interpolated, Science Quality, Global, Sea Surface Temperature data. The through-cloud capabilities of microwave radiometers provide a valuable picture of global sea surface temperature (SST). To utilize this, scientists at Remote Sensing Systems have calculated a daily, Optimally Interpolated (OI) SST product at quarter degree (~25 kilometer) resolution. This product is ideal for research activities in which a complete, daily SST map is more desirable than one with missing data due to orbital gaps or environmental conditions precluding SST retrieval. Improved global daily NRT SSTs should be useful for a wide range of scientific and operational activities. The addition of SST derived from Infrared (IR) measurements allows higher spatial resolution, and SST near land.  However, IR input is less accurate than MW due to cloud contamination. Blending MW and IR enables greater coverage and higher accuracy than IR only SSTs, but current OI does not completely eliminate cloud contamination inherent to IR SSTs.\n",
        "\n",
        "cdm_data_type = Grid\n",
        "VARIABLES (all of which use the dimensions [time][latitude][longitude]):\n",
        "analyzed_sst (Analyzed Sea Surface Temperature, degree_C)\n",
        "analysis_error (Estimated Error Standard Deviation of analyzed_sst, degree_C)\n",
        "mask (Sea/Land/Lake/Ice Field Composite Mask)\n",
        "\n",
        "---------------------------\n",
        "514 SST, GHRSST Blended, MW-IR-OI-RT, Near Real Time, Global (1 Day Composite) \n",
        " Analyzed Foundation, Microwave + InfraRed Optimally Interpolated, Near Real Time, Global, Sea Surface Temperature data. The through-cloud capabilities of microwave radiometers provide a valuable picture of global sea surface temperature (SST). To utilize this, scientists at Remote Sensing Systems have calculated a daily, Optimally Interpolated (OI) SST product at quarter degree (~25 kilometer) resolution. This product is ideal for research activities in which a complete, daily SST map is more desirable than one with missing data due to orbital gaps or environmental conditions precluding SST retrieval. Improved global daily NRT SSTs should be useful for a wide range of scientific and operational activities. The addition of SST derived from Infrared (IR) measurements allows higher spatial resolution, and SST near land. However, IR input is less accurate than MW due to cloud contamination. Blending MW and IR enables greater coverage and higher accuracy than IR only SSTs, but current OI does not completely eliminate cloud contamination inherent to IR SSTs. This is a near real time data set and is intended for use in operations applications. A higher-quality \"Science Quality\" data set is generally available about 10 days after the production of the real time version. It is recommended that the \"Science Quality\" data be used for scientific applications.\n",
        "\n",
        "cdm_data_type = Grid\n",
        "VARIABLES (all of which use the dimensions [time][latitude][longitude]):\n",
        "analyzed_sst (Analyzed Sea Surface Temperature, degree_C)\n",
        "analysis_error (Estimated Error Standard Deviation of analyzed_sst, degree_C)\n",
        "mask (Sea/Land/Lake/Ice Field Composite Mask)\n",
        "\n",
        "---------------------------\n"
       ]
      }
     ],
     "prompt_number": 124
    },
    {
     "cell_type": "code",
     "collapsed": false,
     "input": [
      "def search(url, keywords):    \n",
      "    cont = request.urlopen(url + keywords).read()\n",
      "    res = pd.read_json(cont)\n",
      "    rows = pd.DataFrame(res.table[\"rows\"])\n",
      "    rows.columns = res.table[\"columnNames\"]\n",
      "    return rows\n"
     ],
     "language": "python",
     "metadata": {},
     "outputs": [],
     "prompt_number": 11
    },
    {
     "cell_type": "code",
     "collapsed": false,
     "input": [
      "rows = search(DataSearchURL, \"hawaii\")"
     ],
     "language": "python",
     "metadata": {},
     "outputs": [],
     "prompt_number": 125
    },
    {
     "cell_type": "code",
     "collapsed": false,
     "input": [
      "sstSet = allSets.loc[514,:]"
     ],
     "language": "python",
     "metadata": {},
     "outputs": [],
     "prompt_number": 136
    },
    {
     "cell_type": "code",
     "collapsed": false,
     "input": [
      "buf = [\"<table>\"]\n",
      "for c, x in zip(allSets.columns, sstSet):\n",
      "    buf.append (\"<tr><td>\"+c+\"<td>\"+x)\n",
      "buf.append(\"</table>\")\n",
      "HTML(\"\".join(buf))"
     ],
     "language": "python",
     "metadata": {},
     "outputs": [
      {
       "html": [
        "<table><tr><td>griddap<td>http://coastwatch.pfeg.noaa.gov/erddap/griddap/erdGRssta1day<tr><td>Subset<td><tr><td>tabledap<td><tr><td>Make A Graph<td>http://coastwatch.pfeg.noaa.gov/erddap/griddap/erdGRssta1day.graph<tr><td>wms<td>http://coastwatch.pfeg.noaa.gov/erddap/wms/erdGRssta1day/request<tr><td>Title<td>SST, GHRSST Blended, MW-IR-OI-RT, Near Real Time, Global (1 Day Composite)<tr><td>Summary<td>Analyzed Foundation, Microwave + InfraRed Optimally Interpolated, Near Real Time, Global, Sea Surface Temperature data. The through-cloud capabilities of microwave radiometers provide a valuable picture of global sea surface temperature (SST). To utilize this, scientists at Remote Sensing Systems have calculated a daily, Optimally Interpolated (OI) SST product at quarter degree (~25 kilometer) resolution. This product is ideal for research activities in which a complete, daily SST map is more desirable than one with missing data due to orbital gaps or environmental conditions precluding SST retrieval. Improved global daily NRT SSTs should be useful for a wide range of scientific and operational activities. The addition of SST derived from Infrared (IR) measurements allows higher spatial resolution, and SST near land. However, IR input is less accurate than MW due to cloud contamination. Blending MW and IR enables greater coverage and higher accuracy than IR only SSTs, but current OI does not completely eliminate cloud contamination inherent to IR SSTs. This is a near real time data set and is intended for use in operations applications. A higher-quality \"Science Quality\" data set is generally available about 10 days after the production of the real time version. It is recommended that the \"Science Quality\" data be used for scientific applications.\n",
        "\n",
        "cdm_data_type = Grid\n",
        "VARIABLES (all of which use the dimensions [time][latitude][longitude]):\n",
        "analyzed_sst (Analyzed Sea Surface Temperature, degree_C)\n",
        "analysis_error (Estimated Error Standard Deviation of analyzed_sst, degree_C)\n",
        "mask (Sea/Land/Lake/Ice Field Composite Mask)\n",
        "<tr><td>FGDC<td>http://coastwatch.pfeg.noaa.gov/erddap/metadata/fgdc/xml/erdGRssta1day_fgdc.xml<tr><td>ISO 19115<td>http://coastwatch.pfeg.noaa.gov/erddap/metadata/iso19115/xml/erdGRssta1day_iso19115.xml<tr><td>Info<td>http://coastwatch.pfeg.noaa.gov/erddap/info/erdGRssta1day/index.json<tr><td>Background Info<td>http://www.remss.com/sst/microwave_oi_sst_browse.html<tr><td>RSS<td>http://coastwatch.pfeg.noaa.gov/erddap/rss/erdGRssta1day.rss<tr><td>Email<td>http://coastwatch.pfeg.noaa.gov/erddap/subscriptions/add.html?datasetID=erdGRssta1day&showErrors=false&email=<tr><td>Institution<td>NOAA CoastWatch, West Coast Node<tr><td>Dataset ID<td>erdGRssta1day</table>"
       ],
       "metadata": {},
       "output_type": "pyout",
       "prompt_number": 148,
       "text": [
        "<IPython.core.display.HTML at 0x109f596d0>"
       ]
      }
     ],
     "prompt_number": 148
    },
    {
     "cell_type": "code",
     "collapsed": false,
     "input": [],
     "language": "python",
     "metadata": {},
     "outputs": []
    }
   ],
   "metadata": {}
  }
 ]
}