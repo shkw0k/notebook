{
 "metadata": {
  "name": ""
 },
 "nbformat": 3,
 "nbformat_minor": 0,
 "worksheets": [
  {
   "cells": [
    {
     "cell_type": "code",
     "collapsed": false,
     "input": [
      "%matplotlib inline\n",
      "import pandas as pd\n",
      "from xml.dom.minidom import parseString\n",
      "from IPython.display import display_html, HTML"
     ],
     "language": "python",
     "metadata": {},
     "outputs": [],
     "prompt_number": 27
    },
    {
     "cell_type": "code",
     "collapsed": false,
     "input": [
      "class test1:\n",
      "    pass\n",
      "\n",
      "a1 = \"\"\"\n",
      "def bar1 (st):\n",
      "    print (st)\n",
      "\"\"\"\n",
      "d = globals().copy()\n",
      "exec (a1) in d\n",
      "t1=test1()\n",
      "t1.bar = d['bar1']\n",
      "t1.bar(\"test\")"
     ],
     "language": "python",
     "metadata": {},
     "outputs": [
      {
       "output_type": "stream",
       "stream": "stdout",
       "text": [
        "test\n"
       ]
      }
     ],
     "prompt_number": 25
    },
    {
     "cell_type": "code",
     "collapsed": false,
     "input": [
      "class test2:\n",
      "    def foo (self):\n",
      "        print (\"foo\")\n",
      "    \n",
      "    def doit (self):\n",
      "        a = \"self.foo()\"\n",
      "        eval(a)"
     ],
     "language": "python",
     "metadata": {},
     "outputs": [],
     "prompt_number": 94
    },
    {
     "cell_type": "code",
     "collapsed": false,
     "input": [
      "t2 = test2()\n",
      "t2.doit()\n",
      "#print(dir(t2))"
     ],
     "language": "python",
     "metadata": {},
     "outputs": [
      {
       "output_type": "stream",
       "stream": "stdout",
       "text": [
        "foo\n"
       ]
      }
     ],
     "prompt_number": 95
    },
    {
     "cell_type": "code",
     "collapsed": false,
     "input": [],
     "language": "python",
     "metadata": {},
     "outputs": []
    }
   ],
   "metadata": {}
  }
 ]
}